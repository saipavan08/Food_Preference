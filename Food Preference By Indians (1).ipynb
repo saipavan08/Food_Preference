{
 "cells": [
  {
   "cell_type": "code",
   "execution_count": 4,
   "id": "8b487aa1",
   "metadata": {},
   "outputs": [],
   "source": [
    "#importing pandas library to read the data set\n",
    "\n",
    "import pandas as pd"
   ]
  },
  {
   "cell_type": "code",
   "execution_count": 5,
   "id": "525eac23",
   "metadata": {},
   "outputs": [
    {
     "data": {
      "text/html": [
       "<div>\n",
       "<style scoped>\n",
       "    .dataframe tbody tr th:only-of-type {\n",
       "        vertical-align: middle;\n",
       "    }\n",
       "\n",
       "    .dataframe tbody tr th {\n",
       "        vertical-align: top;\n",
       "    }\n",
       "\n",
       "    .dataframe thead th {\n",
       "        text-align: right;\n",
       "    }\n",
       "</style>\n",
       "<table border=\"1\" class=\"dataframe\">\n",
       "  <thead>\n",
       "    <tr style=\"text-align: right;\">\n",
       "      <th></th>\n",
       "      <th>Timestamp</th>\n",
       "      <th>Participant_ID</th>\n",
       "      <th>Gender</th>\n",
       "      <th>Nationality</th>\n",
       "      <th>Age</th>\n",
       "      <th>Food</th>\n",
       "      <th>Juice</th>\n",
       "      <th>Dessert</th>\n",
       "    </tr>\n",
       "  </thead>\n",
       "  <tbody>\n",
       "    <tr>\n",
       "      <th>0</th>\n",
       "      <td>2019/05/07 2:59:13 PM GMT+8</td>\n",
       "      <td>FPS001</td>\n",
       "      <td>Male</td>\n",
       "      <td>Indian</td>\n",
       "      <td>24</td>\n",
       "      <td>Traditional food</td>\n",
       "      <td>Fresh Juice</td>\n",
       "      <td>Maybe</td>\n",
       "    </tr>\n",
       "    <tr>\n",
       "      <th>1</th>\n",
       "      <td>2019/05/07 2:59:45 PM GMT+8</td>\n",
       "      <td>FPS002</td>\n",
       "      <td>Female</td>\n",
       "      <td>Indian</td>\n",
       "      <td>22</td>\n",
       "      <td>Western Food</td>\n",
       "      <td>Carbonated drinks</td>\n",
       "      <td>Yes</td>\n",
       "    </tr>\n",
       "    <tr>\n",
       "      <th>2</th>\n",
       "      <td>2019/05/07 3:00:05 PM GMT+8</td>\n",
       "      <td>FPS003</td>\n",
       "      <td>Male</td>\n",
       "      <td>Indian</td>\n",
       "      <td>31</td>\n",
       "      <td>Western Food</td>\n",
       "      <td>Fresh Juice</td>\n",
       "      <td>Maybe</td>\n",
       "    </tr>\n",
       "    <tr>\n",
       "      <th>3</th>\n",
       "      <td>2019/05/07 3:00:11 PM GMT+8</td>\n",
       "      <td>FPS004</td>\n",
       "      <td>Female</td>\n",
       "      <td>Indian</td>\n",
       "      <td>25</td>\n",
       "      <td>Traditional food</td>\n",
       "      <td>Fresh Juice</td>\n",
       "      <td>Maybe</td>\n",
       "    </tr>\n",
       "    <tr>\n",
       "      <th>4</th>\n",
       "      <td>2019/05/07 3:02:50 PM GMT+8</td>\n",
       "      <td>FPS005</td>\n",
       "      <td>Male</td>\n",
       "      <td>Indian</td>\n",
       "      <td>27</td>\n",
       "      <td>Traditional food</td>\n",
       "      <td>Fresh Juice</td>\n",
       "      <td>Maybe</td>\n",
       "    </tr>\n",
       "  </tbody>\n",
       "</table>\n",
       "</div>"
      ],
      "text/plain": [
       "                     Timestamp Participant_ID  Gender Nationality  Age  \\\n",
       "0  2019/05/07 2:59:13 PM GMT+8         FPS001    Male      Indian   24   \n",
       "1  2019/05/07 2:59:45 PM GMT+8         FPS002  Female      Indian   22   \n",
       "2  2019/05/07 3:00:05 PM GMT+8         FPS003    Male      Indian   31   \n",
       "3  2019/05/07 3:00:11 PM GMT+8         FPS004  Female      Indian   25   \n",
       "4  2019/05/07 3:02:50 PM GMT+8         FPS005    Male      Indian   27   \n",
       "\n",
       "               Food              Juice Dessert  \n",
       "0  Traditional food        Fresh Juice   Maybe  \n",
       "1      Western Food  Carbonated drinks     Yes  \n",
       "2      Western Food        Fresh Juice   Maybe  \n",
       "3  Traditional food        Fresh Juice   Maybe  \n",
       "4  Traditional food        Fresh Juice   Maybe  "
      ]
     },
     "execution_count": 5,
     "metadata": {},
     "output_type": "execute_result"
    }
   ],
   "source": [
    "data=pd.read_csv(\"Food_preference.csv\")\n",
    "data.head() #displaying top 5 values of data "
   ]
  },
  {
   "cell_type": "code",
   "execution_count": 6,
   "id": "80f8bfd8",
   "metadata": {},
   "outputs": [
    {
     "data": {
      "text/plain": [
       "(288, 8)"
      ]
     },
     "execution_count": 6,
     "metadata": {},
     "output_type": "execute_result"
    }
   ],
   "source": [
    "# shape of data\n",
    "\n",
    "data.shape"
   ]
  },
  {
   "cell_type": "code",
   "execution_count": 7,
   "id": "5154aa68",
   "metadata": {},
   "outputs": [
    {
     "name": "stdout",
     "output_type": "stream",
     "text": [
      "<class 'pandas.core.frame.DataFrame'>\n",
      "RangeIndex: 288 entries, 0 to 287\n",
      "Data columns (total 8 columns):\n",
      " #   Column          Non-Null Count  Dtype \n",
      "---  ------          --------------  ----- \n",
      " 0   Timestamp       288 non-null    object\n",
      " 1   Participant_ID  288 non-null    object\n",
      " 2   Gender          284 non-null    object\n",
      " 3   Nationality     288 non-null    object\n",
      " 4   Age             288 non-null    int64 \n",
      " 5   Food            288 non-null    object\n",
      " 6   Juice           288 non-null    object\n",
      " 7   Dessert         288 non-null    object\n",
      "dtypes: int64(1), object(7)\n",
      "memory usage: 18.1+ KB\n"
     ]
    }
   ],
   "source": [
    "data.info()"
   ]
  },
  {
   "cell_type": "code",
   "execution_count": 8,
   "id": "760ecdea",
   "metadata": {},
   "outputs": [
    {
     "data": {
      "text/html": [
       "<div>\n",
       "<style scoped>\n",
       "    .dataframe tbody tr th:only-of-type {\n",
       "        vertical-align: middle;\n",
       "    }\n",
       "\n",
       "    .dataframe tbody tr th {\n",
       "        vertical-align: top;\n",
       "    }\n",
       "\n",
       "    .dataframe thead th {\n",
       "        text-align: right;\n",
       "    }\n",
       "</style>\n",
       "<table border=\"1\" class=\"dataframe\">\n",
       "  <thead>\n",
       "    <tr style=\"text-align: right;\">\n",
       "      <th></th>\n",
       "      <th>Gender</th>\n",
       "      <th>Nationality</th>\n",
       "      <th>Age</th>\n",
       "      <th>Food</th>\n",
       "      <th>Juice</th>\n",
       "      <th>Dessert</th>\n",
       "    </tr>\n",
       "  </thead>\n",
       "  <tbody>\n",
       "    <tr>\n",
       "      <th>0</th>\n",
       "      <td>Male</td>\n",
       "      <td>Indian</td>\n",
       "      <td>24</td>\n",
       "      <td>Traditional food</td>\n",
       "      <td>Fresh Juice</td>\n",
       "      <td>Maybe</td>\n",
       "    </tr>\n",
       "    <tr>\n",
       "      <th>1</th>\n",
       "      <td>Female</td>\n",
       "      <td>Indian</td>\n",
       "      <td>22</td>\n",
       "      <td>Western Food</td>\n",
       "      <td>Carbonated drinks</td>\n",
       "      <td>Yes</td>\n",
       "    </tr>\n",
       "    <tr>\n",
       "      <th>2</th>\n",
       "      <td>Male</td>\n",
       "      <td>Indian</td>\n",
       "      <td>31</td>\n",
       "      <td>Western Food</td>\n",
       "      <td>Fresh Juice</td>\n",
       "      <td>Maybe</td>\n",
       "    </tr>\n",
       "    <tr>\n",
       "      <th>3</th>\n",
       "      <td>Female</td>\n",
       "      <td>Indian</td>\n",
       "      <td>25</td>\n",
       "      <td>Traditional food</td>\n",
       "      <td>Fresh Juice</td>\n",
       "      <td>Maybe</td>\n",
       "    </tr>\n",
       "    <tr>\n",
       "      <th>4</th>\n",
       "      <td>Male</td>\n",
       "      <td>Indian</td>\n",
       "      <td>27</td>\n",
       "      <td>Traditional food</td>\n",
       "      <td>Fresh Juice</td>\n",
       "      <td>Maybe</td>\n",
       "    </tr>\n",
       "  </tbody>\n",
       "</table>\n",
       "</div>"
      ],
      "text/plain": [
       "   Gender Nationality  Age              Food              Juice Dessert\n",
       "0    Male      Indian   24  Traditional food        Fresh Juice   Maybe\n",
       "1  Female      Indian   22      Western Food  Carbonated drinks     Yes\n",
       "2    Male      Indian   31      Western Food        Fresh Juice   Maybe\n",
       "3  Female      Indian   25  Traditional food        Fresh Juice   Maybe\n",
       "4    Male      Indian   27  Traditional food        Fresh Juice   Maybe"
      ]
     },
     "execution_count": 8,
     "metadata": {},
     "output_type": "execute_result"
    }
   ],
   "source": [
    "#removing Participant_ID and Timestamp as they donthave any weight on analysis\n",
    "\n",
    "ind_food=data.drop([\"Participant_ID\",\"Timestamp\"],axis=1)\n",
    "ind_food.head()"
   ]
  },
  {
   "cell_type": "code",
   "execution_count": 9,
   "id": "0ece2723",
   "metadata": {},
   "outputs": [
    {
     "data": {
      "text/plain": [
       "Indian         241\n",
       "Malaysian       10\n",
       "Indonesia        7\n",
       "Pakistani        3\n",
       "Maldivian        2\n",
       "Japan            2\n",
       "MY               2\n",
       "Pakistani        2\n",
       "Pakistan         1\n",
       "Tanzanian        1\n",
       "Indonesian       1\n",
       "Indonesian       1\n",
       "Malaysia         1\n",
       "Seychellois      1\n",
       "Yemen            1\n",
       "China            1\n",
       "Algerian         1\n",
       "MALAYSIAN        1\n",
       "Muslim           1\n",
       "Canadian         1\n",
       "Maldivian        1\n",
       "Malaysia         1\n",
       "Indonesain       1\n",
       "Korean           1\n",
       "Nigerian         1\n",
       "Malaysian        1\n",
       "Mauritian        1\n",
       "Name: Nationality, dtype: int64"
      ]
     },
     "execution_count": 9,
     "metadata": {},
     "output_type": "execute_result"
    }
   ],
   "source": [
    "#finding the count of nations involved\n",
    "\n",
    "ind_food.Nationality.value_counts()"
   ]
  },
  {
   "cell_type": "raw",
   "id": "ed3d7f9b",
   "metadata": {},
   "source": [
    "More values depend on Indian so we are concentrating on only Indian food preference."
   ]
  },
  {
   "cell_type": "code",
   "execution_count": 10,
   "id": "b2034146",
   "metadata": {},
   "outputs": [],
   "source": [
    "#picking only values of Indians\n",
    "\n",
    "df = ind_food[ind_food['Nationality'] == 'Indian']\n"
   ]
  },
  {
   "cell_type": "code",
   "execution_count": 19,
   "id": "6e281f88",
   "metadata": {},
   "outputs": [
    {
     "data": {
      "text/html": [
       "<div>\n",
       "<style scoped>\n",
       "    .dataframe tbody tr th:only-of-type {\n",
       "        vertical-align: middle;\n",
       "    }\n",
       "\n",
       "    .dataframe tbody tr th {\n",
       "        vertical-align: top;\n",
       "    }\n",
       "\n",
       "    .dataframe thead th {\n",
       "        text-align: right;\n",
       "    }\n",
       "</style>\n",
       "<table border=\"1\" class=\"dataframe\">\n",
       "  <thead>\n",
       "    <tr style=\"text-align: right;\">\n",
       "      <th></th>\n",
       "      <th>Gender</th>\n",
       "      <th>Nationality</th>\n",
       "      <th>Age</th>\n",
       "      <th>Food</th>\n",
       "      <th>Juice</th>\n",
       "      <th>Dessert</th>\n",
       "    </tr>\n",
       "  </thead>\n",
       "  <tbody>\n",
       "    <tr>\n",
       "      <th>0</th>\n",
       "      <td>Male</td>\n",
       "      <td>Indian</td>\n",
       "      <td>24</td>\n",
       "      <td>Traditional food</td>\n",
       "      <td>Fresh Juice</td>\n",
       "      <td>Maybe</td>\n",
       "    </tr>\n",
       "    <tr>\n",
       "      <th>1</th>\n",
       "      <td>Female</td>\n",
       "      <td>Indian</td>\n",
       "      <td>22</td>\n",
       "      <td>Western Food</td>\n",
       "      <td>Carbonated drinks</td>\n",
       "      <td>Yes</td>\n",
       "    </tr>\n",
       "    <tr>\n",
       "      <th>2</th>\n",
       "      <td>Male</td>\n",
       "      <td>Indian</td>\n",
       "      <td>31</td>\n",
       "      <td>Western Food</td>\n",
       "      <td>Fresh Juice</td>\n",
       "      <td>Maybe</td>\n",
       "    </tr>\n",
       "    <tr>\n",
       "      <th>3</th>\n",
       "      <td>Female</td>\n",
       "      <td>Indian</td>\n",
       "      <td>25</td>\n",
       "      <td>Traditional food</td>\n",
       "      <td>Fresh Juice</td>\n",
       "      <td>Maybe</td>\n",
       "    </tr>\n",
       "    <tr>\n",
       "      <th>4</th>\n",
       "      <td>Male</td>\n",
       "      <td>Indian</td>\n",
       "      <td>27</td>\n",
       "      <td>Traditional food</td>\n",
       "      <td>Fresh Juice</td>\n",
       "      <td>Maybe</td>\n",
       "    </tr>\n",
       "    <tr>\n",
       "      <th>5</th>\n",
       "      <td>Male</td>\n",
       "      <td>Indian</td>\n",
       "      <td>24</td>\n",
       "      <td>Traditional food</td>\n",
       "      <td>Fresh Juice</td>\n",
       "      <td>Yes</td>\n",
       "    </tr>\n",
       "    <tr>\n",
       "      <th>6</th>\n",
       "      <td>Female</td>\n",
       "      <td>Indian</td>\n",
       "      <td>34</td>\n",
       "      <td>Traditional food</td>\n",
       "      <td>Fresh Juice</td>\n",
       "      <td>Yes</td>\n",
       "    </tr>\n",
       "    <tr>\n",
       "      <th>8</th>\n",
       "      <td>Female</td>\n",
       "      <td>Indian</td>\n",
       "      <td>19</td>\n",
       "      <td>Traditional food</td>\n",
       "      <td>Fresh Juice</td>\n",
       "      <td>Yes</td>\n",
       "    </tr>\n",
       "    <tr>\n",
       "      <th>9</th>\n",
       "      <td>Female</td>\n",
       "      <td>Indian</td>\n",
       "      <td>16</td>\n",
       "      <td>Western Food</td>\n",
       "      <td>Fresh Juice</td>\n",
       "      <td>Yes</td>\n",
       "    </tr>\n",
       "    <tr>\n",
       "      <th>11</th>\n",
       "      <td>Female</td>\n",
       "      <td>Indian</td>\n",
       "      <td>22</td>\n",
       "      <td>Traditional food</td>\n",
       "      <td>Fresh Juice</td>\n",
       "      <td>Yes</td>\n",
       "    </tr>\n",
       "  </tbody>\n",
       "</table>\n",
       "</div>"
      ],
      "text/plain": [
       "    Gender Nationality  Age              Food              Juice Dessert\n",
       "0     Male      Indian   24  Traditional food        Fresh Juice   Maybe\n",
       "1   Female      Indian   22      Western Food  Carbonated drinks     Yes\n",
       "2     Male      Indian   31      Western Food        Fresh Juice   Maybe\n",
       "3   Female      Indian   25  Traditional food        Fresh Juice   Maybe\n",
       "4     Male      Indian   27  Traditional food        Fresh Juice   Maybe\n",
       "5     Male      Indian   24  Traditional food        Fresh Juice     Yes\n",
       "6   Female      Indian   34  Traditional food        Fresh Juice     Yes\n",
       "8   Female      Indian   19  Traditional food        Fresh Juice     Yes\n",
       "9   Female      Indian   16      Western Food        Fresh Juice     Yes\n",
       "11  Female      Indian   22  Traditional food        Fresh Juice     Yes"
      ]
     },
     "execution_count": 19,
     "metadata": {},
     "output_type": "execute_result"
    }
   ],
   "source": [
    "df.head(10)"
   ]
  },
  {
   "cell_type": "code",
   "execution_count": 20,
   "id": "3d21263f",
   "metadata": {},
   "outputs": [],
   "source": [
    "df=df.drop([\"Nationality\"],axis=1)"
   ]
  },
  {
   "cell_type": "code",
   "execution_count": 21,
   "id": "dc8b2fb7",
   "metadata": {},
   "outputs": [
    {
     "data": {
      "text/html": [
       "<div>\n",
       "<style scoped>\n",
       "    .dataframe tbody tr th:only-of-type {\n",
       "        vertical-align: middle;\n",
       "    }\n",
       "\n",
       "    .dataframe tbody tr th {\n",
       "        vertical-align: top;\n",
       "    }\n",
       "\n",
       "    .dataframe thead th {\n",
       "        text-align: right;\n",
       "    }\n",
       "</style>\n",
       "<table border=\"1\" class=\"dataframe\">\n",
       "  <thead>\n",
       "    <tr style=\"text-align: right;\">\n",
       "      <th></th>\n",
       "      <th>Gender</th>\n",
       "      <th>Age</th>\n",
       "      <th>Food</th>\n",
       "      <th>Juice</th>\n",
       "      <th>Dessert</th>\n",
       "    </tr>\n",
       "  </thead>\n",
       "  <tbody>\n",
       "    <tr>\n",
       "      <th>0</th>\n",
       "      <td>Male</td>\n",
       "      <td>24</td>\n",
       "      <td>Traditional food</td>\n",
       "      <td>Fresh Juice</td>\n",
       "      <td>Maybe</td>\n",
       "    </tr>\n",
       "    <tr>\n",
       "      <th>1</th>\n",
       "      <td>Female</td>\n",
       "      <td>22</td>\n",
       "      <td>Western Food</td>\n",
       "      <td>Carbonated drinks</td>\n",
       "      <td>Yes</td>\n",
       "    </tr>\n",
       "    <tr>\n",
       "      <th>2</th>\n",
       "      <td>Male</td>\n",
       "      <td>31</td>\n",
       "      <td>Western Food</td>\n",
       "      <td>Fresh Juice</td>\n",
       "      <td>Maybe</td>\n",
       "    </tr>\n",
       "    <tr>\n",
       "      <th>3</th>\n",
       "      <td>Female</td>\n",
       "      <td>25</td>\n",
       "      <td>Traditional food</td>\n",
       "      <td>Fresh Juice</td>\n",
       "      <td>Maybe</td>\n",
       "    </tr>\n",
       "    <tr>\n",
       "      <th>4</th>\n",
       "      <td>Male</td>\n",
       "      <td>27</td>\n",
       "      <td>Traditional food</td>\n",
       "      <td>Fresh Juice</td>\n",
       "      <td>Maybe</td>\n",
       "    </tr>\n",
       "    <tr>\n",
       "      <th>...</th>\n",
       "      <td>...</td>\n",
       "      <td>...</td>\n",
       "      <td>...</td>\n",
       "      <td>...</td>\n",
       "      <td>...</td>\n",
       "    </tr>\n",
       "    <tr>\n",
       "      <th>283</th>\n",
       "      <td>Male</td>\n",
       "      <td>27</td>\n",
       "      <td>Western Food</td>\n",
       "      <td>Fresh Juice</td>\n",
       "      <td>Yes</td>\n",
       "    </tr>\n",
       "    <tr>\n",
       "      <th>284</th>\n",
       "      <td>Male</td>\n",
       "      <td>24</td>\n",
       "      <td>Traditional food</td>\n",
       "      <td>Fresh Juice</td>\n",
       "      <td>Yes</td>\n",
       "    </tr>\n",
       "    <tr>\n",
       "      <th>285</th>\n",
       "      <td>Male</td>\n",
       "      <td>25</td>\n",
       "      <td>Traditional food</td>\n",
       "      <td>Fresh Juice</td>\n",
       "      <td>Yes</td>\n",
       "    </tr>\n",
       "    <tr>\n",
       "      <th>286</th>\n",
       "      <td>Male</td>\n",
       "      <td>27</td>\n",
       "      <td>Traditional food</td>\n",
       "      <td>Fresh Juice</td>\n",
       "      <td>Yes</td>\n",
       "    </tr>\n",
       "    <tr>\n",
       "      <th>287</th>\n",
       "      <td>Male</td>\n",
       "      <td>27</td>\n",
       "      <td>Traditional food</td>\n",
       "      <td>Fresh Juice</td>\n",
       "      <td>No</td>\n",
       "    </tr>\n",
       "  </tbody>\n",
       "</table>\n",
       "<p>241 rows × 5 columns</p>\n",
       "</div>"
      ],
      "text/plain": [
       "     Gender  Age              Food              Juice Dessert\n",
       "0      Male   24  Traditional food        Fresh Juice   Maybe\n",
       "1    Female   22      Western Food  Carbonated drinks     Yes\n",
       "2      Male   31      Western Food        Fresh Juice   Maybe\n",
       "3    Female   25  Traditional food        Fresh Juice   Maybe\n",
       "4      Male   27  Traditional food        Fresh Juice   Maybe\n",
       "..      ...  ...               ...                ...     ...\n",
       "283    Male   27      Western Food        Fresh Juice     Yes\n",
       "284    Male   24  Traditional food        Fresh Juice     Yes\n",
       "285    Male   25  Traditional food        Fresh Juice     Yes\n",
       "286    Male   27  Traditional food        Fresh Juice     Yes\n",
       "287    Male   27  Traditional food        Fresh Juice      No\n",
       "\n",
       "[241 rows x 5 columns]"
      ]
     },
     "execution_count": 21,
     "metadata": {},
     "output_type": "execute_result"
    }
   ],
   "source": [
    "df"
   ]
  },
  {
   "cell_type": "code",
   "execution_count": 25,
   "id": "7f999ace",
   "metadata": {},
   "outputs": [],
   "source": [
    "ploting the countplot to differentiate the count of boys and girls "
   ]
  },
  {
   "cell_type": "code",
   "execution_count": 57,
   "id": "415f3eba",
   "metadata": {},
   "outputs": [
    {
     "data": {
      "text/plain": [
       "Female    149\n",
       "Male       89\n",
       "Name: Gender, dtype: int64"
      ]
     },
     "execution_count": 57,
     "metadata": {},
     "output_type": "execute_result"
    }
   ],
   "source": [
    "df0= df['Gender'].value_counts().sort_index(ascending = True)\n",
    "df0.head()"
   ]
  },
  {
   "cell_type": "code",
   "execution_count": 30,
   "id": "256ee426",
   "metadata": {},
   "outputs": [
    {
     "data": {
      "image/png": "[encoded data removed]",
      "text/plain": [
       "<Figure size 432x288 with 1 Axes>"
      ]
     },
     "metadata": {
      "needs_background": "light"
     },
     "output_type": "display_data"
    }
   ],
   "source": [
    "import seaborn as sns\n",
    "import matplotlib.pyplot as plt\n",
    "%matplotlib inline\n",
    "sns.countplot(x ='Gender', data = df)\n",
    "plt.title('Gender count')\n",
    "plt.show()\n",
    "\n",
    "\n",
    "\n"
   ]
  },
  {
   "cell_type": "code",
   "execution_count": 18,
   "id": "3bd79f0d",
   "metadata": {},
   "outputs": [],
   "source": [
    "def age_buckets(x): \n",
    "    if x < 10: return '00-09' \n",
    "    elif x < 20: return '10-19' \n",
    "    elif x < 30: return '20-29' \n",
    "    elif x < 40: return '30-39'\n",
    "    elif x < 50: return '40-49' \n",
    "    elif x < 60: return '50-59' \n",
    "    elif x < 70: return '60-69' \n",
    "    elif x < 80: return '70-79' \n",
    "    elif x < 90: return '80-89' \n",
    "    else: return 'other'"
   ]
  },
  {
   "cell_type": "code",
   "execution_count": 19,
   "id": "954b511d",
   "metadata": {},
   "outputs": [
    {
     "name": "stderr",
     "output_type": "stream",
     "text": [
      "<ipython-input-19-1ada66422b61>:1: SettingWithCopyWarning: \n",
      "A value is trying to be set on a copy of a slice from a DataFrame.\n",
      "Try using .loc[row_indexer,col_indexer] = value instead\n",
      "\n",
      "See the caveats in the documentation: https://pandas.pydata.org/pandas-docs/stable/user_guide/indexing.html#returning-a-view-versus-a-copy\n",
      "  df['Agerange'] = df.Age.apply(age_buckets)\n",
      "<ipython-input-19-1ada66422b61>:2: SettingWithCopyWarning: \n",
      "A value is trying to be set on a copy of a slice from a DataFrame\n",
      "\n",
      "See the caveats in the documentation: https://pandas.pydata.org/pandas-docs/stable/user_guide/indexing.html#returning-a-view-versus-a-copy\n",
      "  df.sort_values(by = ['Age'], ascending = True, inplace = True)\n"
     ]
    },
    {
     "data": {
      "text/html": [
       "<div>\n",
       "<style scoped>\n",
       "    .dataframe tbody tr th:only-of-type {\n",
       "        vertical-align: middle;\n",
       "    }\n",
       "\n",
       "    .dataframe tbody tr th {\n",
       "        vertical-align: top;\n",
       "    }\n",
       "\n",
       "    .dataframe thead th {\n",
       "        text-align: right;\n",
       "    }\n",
       "</style>\n",
       "<table border=\"1\" class=\"dataframe\">\n",
       "  <thead>\n",
       "    <tr style=\"text-align: right;\">\n",
       "      <th></th>\n",
       "      <th>Gender</th>\n",
       "      <th>Nationality</th>\n",
       "      <th>Age</th>\n",
       "      <th>Food</th>\n",
       "      <th>Juice</th>\n",
       "      <th>Dessert</th>\n",
       "      <th>Agerange</th>\n",
       "    </tr>\n",
       "  </thead>\n",
       "  <tbody>\n",
       "    <tr>\n",
       "      <th>118</th>\n",
       "      <td>Female</td>\n",
       "      <td>Indian</td>\n",
       "      <td>8</td>\n",
       "      <td>Traditional food</td>\n",
       "      <td>Fresh Juice</td>\n",
       "      <td>No</td>\n",
       "      <td>00-09</td>\n",
       "    </tr>\n",
       "    <tr>\n",
       "      <th>177</th>\n",
       "      <td>Male</td>\n",
       "      <td>Indian</td>\n",
       "      <td>9</td>\n",
       "      <td>Western Food</td>\n",
       "      <td>Fresh Juice</td>\n",
       "      <td>Yes</td>\n",
       "      <td>00-09</td>\n",
       "    </tr>\n",
       "    <tr>\n",
       "      <th>157</th>\n",
       "      <td>Male</td>\n",
       "      <td>Indian</td>\n",
       "      <td>9</td>\n",
       "      <td>Traditional food</td>\n",
       "      <td>Fresh Juice</td>\n",
       "      <td>Maybe</td>\n",
       "      <td>00-09</td>\n",
       "    </tr>\n",
       "    <tr>\n",
       "      <th>240</th>\n",
       "      <td>Male</td>\n",
       "      <td>Indian</td>\n",
       "      <td>9</td>\n",
       "      <td>Traditional food</td>\n",
       "      <td>Fresh Juice</td>\n",
       "      <td>Yes</td>\n",
       "      <td>00-09</td>\n",
       "    </tr>\n",
       "    <tr>\n",
       "      <th>121</th>\n",
       "      <td>Male</td>\n",
       "      <td>Indian</td>\n",
       "      <td>12</td>\n",
       "      <td>Traditional food</td>\n",
       "      <td>Fresh Juice</td>\n",
       "      <td>No</td>\n",
       "      <td>10-19</td>\n",
       "    </tr>\n",
       "  </tbody>\n",
       "</table>\n",
       "</div>"
      ],
      "text/plain": [
       "     Gender Nationality  Age              Food        Juice Dessert Agerange\n",
       "118  Female      Indian    8  Traditional food  Fresh Juice      No    00-09\n",
       "177    Male      Indian    9      Western Food  Fresh Juice     Yes    00-09\n",
       "157    Male      Indian    9  Traditional food  Fresh Juice   Maybe    00-09\n",
       "240    Male      Indian    9  Traditional food  Fresh Juice     Yes    00-09\n",
       "121    Male      Indian   12  Traditional food  Fresh Juice      No    10-19"
      ]
     },
     "execution_count": 19,
     "metadata": {},
     "output_type": "execute_result"
    }
   ],
   "source": [
    "df['Agerange'] = df.Age.apply(age_buckets)\n",
    "df.sort_values(by = ['Age'], ascending = True, inplace = True)\n",
    "df.head()"
   ]
  },
  {
   "cell_type": "code",
   "execution_count": 20,
   "id": "4321f8a0",
   "metadata": {},
   "outputs": [
    {
     "data": {
      "text/plain": [
       "00-09      4\n",
       "10-19     14\n",
       "20-29    102\n",
       "30-39     76\n",
       "40-49     26\n",
       "Name: Agerange, dtype: int64"
      ]
     },
     "execution_count": 20,
     "metadata": {},
     "output_type": "execute_result"
    }
   ],
   "source": [
    "df1= df['Agerange'].value_counts().sort_index(ascending = True)\n",
    "df1.head()"
   ]
  },
  {
   "cell_type": "code",
   "execution_count": 50,
   "id": "10f82c8f",
   "metadata": {},
   "outputs": [
    {
     "data": {
      "image/png": "[encoded data removed]",
      "text/plain": [
       "<Figure size 2160x288 with 1 Axes>"
      ]
     },
     "metadata": {
      "needs_background": "light"
     },
     "output_type": "display_data"
    }
   ],
   "source": [
    "fig = plt.figure(figsize=(30,4))\n",
    "ax2 = fig.add_subplot(1,2,2)\n",
    "sns.countplot(x=df['Agerange'],ax = ax2)\n",
    "plt.xlabel('Age Range')\n",
    "plt.ylabel('Count')\n",
    "\n",
    "#displaying exact count on bars\n",
    "for i, v in df1.reset_index().iterrows():\n",
    "    ax2.text(i - 0.08, v.Agerange +0.3 , v.Agerange , color='red')\n",
    "plt.show()"
   ]
  },
  {
   "cell_type": "markdown",
   "id": "142b45a3",
   "metadata": {},
   "source": [
    "## Plotting food choice"
   ]
  },
  {
   "cell_type": "code",
   "execution_count": 26,
   "id": "36caaba3",
   "metadata": {},
   "outputs": [
    {
     "data": {
      "text/plain": [
       "Traditional food    204\n",
       "Western Food         37\n",
       "Name: Food, dtype: int64"
      ]
     },
     "execution_count": 26,
     "metadata": {},
     "output_type": "execute_result"
    }
   ],
   "source": [
    "#Finding the count of type of food\n",
    "df2 = df['Food'].value_counts(ascending = False)\n",
    "df2"
   ]
  },
  {
   "cell_type": "code",
   "execution_count": 52,
   "id": "fd4b96f1",
   "metadata": {},
   "outputs": [
    {
     "data": {
      "image/png": "[encoded data removed]",
      "text/plain": [
       "<Figure size 576x288 with 1 Axes>"
      ]
     },
     "metadata": {
      "needs_background": "light"
     },
     "output_type": "display_data"
    }
   ],
   "source": [
    "#Showing them using countplot\n",
    "\n",
    "fig = plt.figure(figsize=(8,4))\n",
    "ax3 = fig.add_subplot(1,2,1) #setting the length weidth and height of countplot\n",
    "sns.countplot(x=df['Food'],ax = ax3)\n",
    "plt.xlabel('Food Choice')\n",
    "plt.ylabel('Count')\n",
    "\n",
    "for i, v in df2.reset_index().iterrows():\n",
    "    ax3.text(i - 0.08, v.Food +0.3 , v.Food , color='red')\n",
    "plt.show()"
   ]
  },
  {
   "cell_type": "markdown",
   "id": "7a759c42",
   "metadata": {},
   "source": [
    "## Ploting for juice choice"
   ]
  },
  {
   "cell_type": "code",
   "execution_count": 32,
   "id": "78d873d2",
   "metadata": {},
   "outputs": [
    {
     "data": {
      "text/plain": [
       "Fresh Juice          217\n",
       "Carbonated drinks     24\n",
       "Name: Juice, dtype: int64"
      ]
     },
     "execution_count": 32,
     "metadata": {},
     "output_type": "execute_result"
    }
   ],
   "source": [
    "df3 = df['Juice'].value_counts(ascending = False)\n",
    "df3"
   ]
  },
  {
   "cell_type": "code",
   "execution_count": null,
   "id": "9a945120",
   "metadata": {},
   "outputs": [],
   "source": [
    "# Ploting the countplot for juice choice\n",
    "\n",
    "\n",
    "fig = plt.figure(figsize=(8,4))\n",
    "ax4 = fig.add_subplot(1,2,1)\n",
    "sns.countplot(x=df['Juice'],ax = ax4)\n",
    "plt.xlabel('Juice Choice')\n",
    "plt.ylabel('Count')\n",
    "\n",
    "for i, v in df3.reset_index().iterrows():\n",
    "    ax4.text(i - 0.08, v.Juice +0.3 , v.Juice , color='red')\n",
    "plt.show()"
   ]
  },
  {
   "cell_type": "markdown",
   "id": "bf4b6357",
   "metadata": {},
   "source": [
    "## Ploting for preferance for desert"
   ]
  },
  {
   "cell_type": "code",
   "execution_count": 37,
   "id": "a5262dcd",
   "metadata": {},
   "outputs": [
    {
     "data": {
      "text/plain": [
       "No        47\n",
       "Yes       91\n",
       "Maybe    103\n",
       "Name: Dessert, dtype: int64"
      ]
     },
     "execution_count": 37,
     "metadata": {},
     "output_type": "execute_result"
    }
   ],
   "source": [
    "df4 = df['Dessert'].value_counts(ascending = True)\n",
    "df4"
   ]
  },
  {
   "cell_type": "code",
   "execution_count": 38,
   "id": "15e8450e",
   "metadata": {},
   "outputs": [
    {
     "data": {
      "image/png": "[encoded data removed]",
      "text/plain": [
       "<Figure size 576x288 with 1 Axes>"
      ]
     },
     "metadata": {
      "needs_background": "light"
     },
     "output_type": "display_data"
    }
   ],
   "source": [
    "fig = plt.figure(figsize=(8,4))\n",
    "ax5 = fig.add_subplot(1,2,1)\n",
    "sns.countplot(x=df['Dessert'],ax = ax5)\n",
    "plt.xlabel('Dessert Choice')\n",
    "plt.ylabel('Count')\n",
    "\n",
    "for i, v in df4.reset_index().iterrows():\n",
    "    ax5.text(i - 0.08, v.Dessert +0.3 , v.Dessert , color='red')\n",
    "plt.show()"
   ]
  },
  {
   "cell_type": "markdown",
   "id": "03904cd1",
   "metadata": {},
   "source": [
    "## Finding the correlation for the attribets to gender "
   ]
  },
  {
   "cell_type": "code",
   "execution_count": 56,
   "id": "04d7772d",
   "metadata": {},
   "outputs": [
    {
     "name": "stderr",
     "output_type": "stream",
     "text": [
      "C:\\Users\\HP\\anaconda3\\lib\\site-packages\\seaborn\\_decorators.py:36: FutureWarning: Pass the following variable as a keyword arg: x. From version 0.12, the only valid positional argument will be `data`, and passing other arguments without an explicit keyword will result in an error or misinterpretation.\n",
      "  warnings.warn(\n",
      "C:\\Users\\HP\\anaconda3\\lib\\site-packages\\seaborn\\_decorators.py:36: FutureWarning: Pass the following variable as a keyword arg: x. From version 0.12, the only valid positional argument will be `data`, and passing other arguments without an explicit keyword will result in an error or misinterpretation.\n",
      "  warnings.warn(\n",
      "C:\\Users\\HP\\anaconda3\\lib\\site-packages\\seaborn\\_decorators.py:36: FutureWarning: Pass the following variable as a keyword arg: x. From version 0.12, the only valid positional argument will be `data`, and passing other arguments without an explicit keyword will result in an error or misinterpretation.\n",
      "  warnings.warn(\n",
      "C:\\Users\\HP\\anaconda3\\lib\\site-packages\\seaborn\\_decorators.py:36: FutureWarning: Pass the following variable as a keyword arg: x. From version 0.12, the only valid positional argument will be `data`, and passing other arguments without an explicit keyword will result in an error or misinterpretation.\n",
      "  warnings.warn(\n"
     ]
    },
    {
     "data": {
      "text/plain": [
       "Text(0.5, 0, 'Age Range')"
      ]
     },
     "execution_count": 56,
     "metadata": {},
     "output_type": "execute_result"
    },
    {
     "data": {
      "image/png": "[encoded data removed]",
      "text/plain": [
       "<Figure size 2160x360 with 4 Axes>"
      ]
     },
     "metadata": {
      "needs_background": "light"
     },
     "output_type": "display_data"
    }
   ],
   "source": [
    "dims = (30, 5)\n",
    "fig, ax = plt.subplots(1,4,figsize=dims)\n",
    "ax[0].set(title = 'Gender-wise count of Food Choice')\n",
    "sns.countplot('Food', hue = 'Gender', data = df, ax = ax[0])\n",
    "\n",
    "\n",
    "\n",
    "ax[1].set(title = 'Gender-wise count of Juice Choice')\n",
    "sns.countplot('Juice', hue = 'Gender', data = df, ax = ax[1])\n",
    "\n",
    "\n",
    "ax[2].set(title = 'Gender-wise count of Dessert Choice')\n",
    "sns.countplot('Dessert', hue = 'Gender', data = df, ax = ax[2])\n",
    "\n",
    "\n",
    "ax[3].set(title = 'Gender-wise count of Age Range')\n",
    "sns.countplot('Agerange', hue = 'Gender', data = df, ax = ax[3])\n",
    "plt.xlabel('Age Range')"
   ]
  },
  {
   "cell_type": "markdown",
   "id": "529eba6c",
   "metadata": {},
   "source": [
    "# This concludes that gender may not effect to the preference so if you are an Indian You Likely to have Traditional food along with fresh juice but dessert my be a choice"
   ]
  },
  {
   "cell_type": "code",
   "execution_count": null,
   "id": "bd103191",
   "metadata": {},
   "outputs": [],
   "source": []
  }
 ],
 "metadata": {
  "kernelspec": {
   "display_name": "Python 3",
   "language": "python",
   "name": "python3"
  },
  "language_info": {
   "codemirror_mode": {
    "name": "ipython",
    "version": 3
   },
   "file_extension": ".py",
   "mimetype": "text/x-python",
   "name": "python",
   "nbconvert_exporter": "python",
   "pygments_lexer": "ipython3",
   "version": "3.8.8"
  }
 },
 "nbformat": 4,
 "nbformat_minor": 5
}
